{
 "cells": [
  {
   "cell_type": "markdown",
   "metadata": {},
   "source": [
    "pip install --force-reinstall openai==1.8"
   ]
  },
  {
   "cell_type": "code",
   "execution_count": 5,
   "metadata": {},
   "outputs": [],
   "source": [
    "from datasets import load_dataset\n",
    "import pandas as pd\n",
    "from rouge import Rouge\n",
    "from openai import OpenAI\n",
    "import json\n",
    "from settings import *\n",
    "from utils import preprocess, prompt, score, utils\n",
    "import os \n",
    "\n",
    "from langchain.llms import OpenAI\n",
    "from langchain import HuggingFaceHub, LLMChain\n",
    "from langchain.prompts import load_prompt, PromptTemplate\n",
    "from tqdm import tqdm\n",
    "\n",
    "from langchain.prompts import PromptTemplate\n",
    "from langchain import LLMChain\n",
    "from transformers import AutoModelForCausalLM, AutoTokenizer, pipeline\n",
    "from langchain_community.llms.huggingface_pipeline import HuggingFacePipeline\n",
    "import warnings\n",
    "warnings.filterwarnings(\"ignore\")\n",
    "                                                             \n",
    "config = utils.load_json(CONFIG_DIR)"
   ]
  },
  {
   "cell_type": "code",
   "execution_count": 7,
   "metadata": {},
   "outputs": [
    {
     "data": {
      "text/html": [
       "<div>\n",
       "<style scoped>\n",
       "    .dataframe tbody tr th:only-of-type {\n",
       "        vertical-align: middle;\n",
       "    }\n",
       "\n",
       "    .dataframe tbody tr th {\n",
       "        vertical-align: top;\n",
       "    }\n",
       "\n",
       "    .dataframe thead th {\n",
       "        text-align: right;\n",
       "    }\n",
       "</style>\n",
       "<table border=\"1\" class=\"dataframe\">\n",
       "  <thead>\n",
       "    <tr style=\"text-align: right;\">\n",
       "      <th></th>\n",
       "      <th>article</th>\n",
       "      <th>abstract</th>\n",
       "    </tr>\n",
       "  </thead>\n",
       "  <tbody>\n",
       "    <tr>\n",
       "      <th>14</th>\n",
       "      <td>a review of the literature and an extensive me...</td>\n",
       "      <td>backgrounda review of the literature and an ex...</td>\n",
       "    </tr>\n",
       "    <tr>\n",
       "      <th>53</th>\n",
       "      <td>nathan , as an oncology fellow , knew well tha...</td>\n",
       "      <td>t cells tell macrophages when to start making ...</td>\n",
       "    </tr>\n",
       "    <tr>\n",
       "      <th>61</th>\n",
       "      <td>temporary henna tattoos or pseudotattoo have b...</td>\n",
       "      <td>temporary henna tattoos or pseudotattoos have ...</td>\n",
       "    </tr>\n",
       "    <tr>\n",
       "      <th>71</th>\n",
       "      <td>care coordination is an important aspect of nu...</td>\n",
       "      <td>introductioncare coordination is an important ...</td>\n",
       "    </tr>\n",
       "    <tr>\n",
       "      <th>123</th>\n",
       "      <td>the laparoscopic removal of a cervical stump f...</td>\n",
       "      <td>a 43-year - old , who underwent a subtotal hys...</td>\n",
       "    </tr>\n",
       "    <tr>\n",
       "      <th>...</th>\n",
       "      <td>...</td>\n",
       "      <td>...</td>\n",
       "    </tr>\n",
       "    <tr>\n",
       "      <th>119684</th>\n",
       "      <td>to assess attitudes and practices of documenta...</td>\n",
       "      <td>purposes : to assess attitudes and practices o...</td>\n",
       "    </tr>\n",
       "    <tr>\n",
       "      <th>119764</th>\n",
       "      <td>hearts , isolated from wildtype zebrafish embr...</td>\n",
       "      <td>electrical gradients are critical for many bio...</td>\n",
       "    </tr>\n",
       "    <tr>\n",
       "      <th>119802</th>\n",
       "      <td>both f-18 fluorodeoxyglucose ( fdg ) and c-11 ...</td>\n",
       "      <td>a 10-year - boy post - operative , post - radi...</td>\n",
       "    </tr>\n",
       "    <tr>\n",
       "      <th>119867</th>\n",
       "      <td>monilethrix is an autosomal dominant disorder ...</td>\n",
       "      <td>congenital hypotrichosis may be due to a numbe...</td>\n",
       "    </tr>\n",
       "    <tr>\n",
       "      <th>119900</th>\n",
       "      <td>2005 after a detailed polyphasic study and rec...</td>\n",
       "      <td>we report the 3.3-mb draft genome of laceyella...</td>\n",
       "    </tr>\n",
       "  </tbody>\n",
       "</table>\n",
       "<p>2969 rows × 2 columns</p>\n",
       "</div>"
      ],
      "text/plain": [
       "                                                  article   \n",
       "14      a review of the literature and an extensive me...  \\\n",
       "53      nathan , as an oncology fellow , knew well tha...   \n",
       "61      temporary henna tattoos or pseudotattoo have b...   \n",
       "71      care coordination is an important aspect of nu...   \n",
       "123     the laparoscopic removal of a cervical stump f...   \n",
       "...                                                   ...   \n",
       "119684  to assess attitudes and practices of documenta...   \n",
       "119764  hearts , isolated from wildtype zebrafish embr...   \n",
       "119802  both f-18 fluorodeoxyglucose ( fdg ) and c-11 ...   \n",
       "119867  monilethrix is an autosomal dominant disorder ...   \n",
       "119900  2005 after a detailed polyphasic study and rec...   \n",
       "\n",
       "                                                 abstract  \n",
       "14      backgrounda review of the literature and an ex...  \n",
       "53      t cells tell macrophages when to start making ...  \n",
       "61      temporary henna tattoos or pseudotattoos have ...  \n",
       "71      introductioncare coordination is an important ...  \n",
       "123     a 43-year - old , who underwent a subtotal hys...  \n",
       "...                                                   ...  \n",
       "119684  purposes : to assess attitudes and practices o...  \n",
       "119764  electrical gradients are critical for many bio...  \n",
       "119802  a 10-year - boy post - operative , post - radi...  \n",
       "119867  congenital hypotrichosis may be due to a numbe...  \n",
       "119900  we report the 3.3-mb draft genome of laceyella...  \n",
       "\n",
       "[2969 rows x 2 columns]"
      ]
     },
     "execution_count": 7,
     "metadata": {},
     "output_type": "execute_result"
    }
   ],
   "source": [
    "pubmed = utils.load_data(config['data_name'])\n",
    "pubmed"
   ]
  },
  {
   "cell_type": "code",
   "execution_count": 6,
   "metadata": {},
   "outputs": [
    {
     "name": "stderr",
     "output_type": "stream",
     "text": [
      "/opt/conda/lib/python3.8/site-packages/huggingface_hub/utils/_deprecation.py:131: FutureWarning: 'InferenceApi' (from 'huggingface_hub.inference_api') is deprecated and will be removed from version '1.0'. `InferenceApi` client is deprecated in favor of the more feature-complete `InferenceClient`. Check out this guide to learn how to convert your script to use it: https://huggingface.co/docs/huggingface_hub/guides/inference#legacy-inferenceapi-client.\n",
      "  warnings.warn(warning_message, FutureWarning)\n",
      "100%|██████████| 10/10 [00:02<00:00,  3.62it/s]\n"
     ]
    }
   ],
   "source": [
    "# os.environ['HUGGINGFACEHUB_API_TOKEN'] = load_json(API_KEY)['huggingface_key']\n",
    "# summarizer = HuggingFaceHub(\n",
    "#     repo_id=\"gpt2\",\n",
    "#     model_kwargs={\"temperature\":0.2}\n",
    "# )\n",
    "# template = \"\"\"\n",
    "# You are an abstractive summarizer that follows the output pattern.\n",
    "# Please revise the extracted summary based on the document. The revised summary should include the information in the extracted summary. Docu- ment: {document} Extractive Summary: [Extractive Summary] [Format Instruction].\n",
    "# \"\"\"\n",
    "\n",
    "# response_list = []\n",
    "# for idx in tqdm(range(10)):\n",
    "#     doc = filter_pubmed.iloc[idx, 0]\n",
    "#     prompt = PromptTemplate(template=template, input_variables=[\"document\"])\n",
    "#     llm_chain = LLMChain(prompt=prompt, llm=summarizer)\n",
    "#     response = llm_chain.invoke(input = doc)['document']\n",
    "#     if len(response) > 0:\n",
    "#         response_list.append([response, filter_pubmed.iloc[idx, 1]])\n",
    "    "
   ]
  },
  {
   "cell_type": "code",
   "execution_count": 8,
   "metadata": {},
   "outputs": [
    {
     "data": {
      "application/vnd.jupyter.widget-view+json": {
       "model_id": "91d4630ee4424fcd99a137027ee5ec02",
       "version_major": 2,
       "version_minor": 0
      },
      "text/plain": [
       "tokenizer_config.json:   0%|          | 0.00/967 [00:00<?, ?B/s]"
      ]
     },
     "metadata": {},
     "output_type": "display_data"
    },
    {
     "data": {
      "application/vnd.jupyter.widget-view+json": {
       "model_id": "a78c2d6349ca4fb6a3ac250973f132f9",
       "version_major": 2,
       "version_minor": 0
      },
      "text/plain": [
       "tokenizer.model:   0%|          | 0.00/493k [00:00<?, ?B/s]"
      ]
     },
     "metadata": {},
     "output_type": "display_data"
    },
    {
     "data": {
      "application/vnd.jupyter.widget-view+json": {
       "model_id": "0925f70cea0b416693566217e8fc65cf",
       "version_major": 2,
       "version_minor": 0
      },
      "text/plain": [
       "tokenizer.json:   0%|          | 0.00/1.80M [00:00<?, ?B/s]"
      ]
     },
     "metadata": {},
     "output_type": "display_data"
    },
    {
     "data": {
      "application/vnd.jupyter.widget-view+json": {
       "model_id": "31f05178e3104716b496cbd43557b80a",
       "version_major": 2,
       "version_minor": 0
      },
      "text/plain": [
       "special_tokens_map.json:   0%|          | 0.00/72.0 [00:00<?, ?B/s]"
      ]
     },
     "metadata": {},
     "output_type": "display_data"
    },
    {
     "data": {
      "application/vnd.jupyter.widget-view+json": {
       "model_id": "402c43f4bfc0426dbc9286a3a5ed250f",
       "version_major": 2,
       "version_minor": 0
      },
      "text/plain": [
       "config.json:   0%|          | 0.00/571 [00:00<?, ?B/s]"
      ]
     },
     "metadata": {},
     "output_type": "display_data"
    },
    {
     "data": {
      "application/vnd.jupyter.widget-view+json": {
       "model_id": "9c3ef7fe1a154782841fcaca5a50e4e8",
       "version_major": 2,
       "version_minor": 0
      },
      "text/plain": [
       "model.safetensors.index.json:   0%|          | 0.00/25.1k [00:00<?, ?B/s]"
      ]
     },
     "metadata": {},
     "output_type": "display_data"
    },
    {
     "data": {
      "application/vnd.jupyter.widget-view+json": {
       "model_id": "6aaea2f16f70489eb32151d115db2225",
       "version_major": 2,
       "version_minor": 0
      },
      "text/plain": [
       "Downloading shards:   0%|          | 0/2 [00:00<?, ?it/s]"
      ]
     },
     "metadata": {},
     "output_type": "display_data"
    },
    {
     "data": {
      "application/vnd.jupyter.widget-view+json": {
       "model_id": "9b76cd054cbd4faebe2680e08cd45906",
       "version_major": 2,
       "version_minor": 0
      },
      "text/plain": [
       "model-00001-of-00002.safetensors:   0%|          | 0.00/9.94G [00:00<?, ?B/s]"
      ]
     },
     "metadata": {},
     "output_type": "display_data"
    },
    {
     "data": {
      "application/vnd.jupyter.widget-view+json": {
       "model_id": "47e827761f334cbc9d5ca7efea8627aa",
       "version_major": 2,
       "version_minor": 0
      },
      "text/plain": [
       "model-00002-of-00002.safetensors:   0%|          | 0.00/4.54G [00:00<?, ?B/s]"
      ]
     },
     "metadata": {},
     "output_type": "display_data"
    },
    {
     "data": {
      "application/vnd.jupyter.widget-view+json": {
       "model_id": "9a902b843fe44c67adadcb56dd104c10",
       "version_major": 2,
       "version_minor": 0
      },
      "text/plain": [
       "Loading checkpoint shards:   0%|          | 0/2 [00:00<?, ?it/s]"
      ]
     },
     "metadata": {},
     "output_type": "display_data"
    },
    {
     "data": {
      "application/vnd.jupyter.widget-view+json": {
       "model_id": "77ee55a2172e421bb5a72d6039d80547",
       "version_major": 2,
       "version_minor": 0
      },
      "text/plain": [
       "generation_config.json:   0%|          | 0.00/116 [00:00<?, ?B/s]"
      ]
     },
     "metadata": {},
     "output_type": "display_data"
    }
   ],
   "source": [
    "MODEL_NAME = \"mistralai/Mistral-7B-v0.1\"\n",
    "cache_dir = \"/data/ephemeral/Youtube-Short-Generator/mistral\"\n",
    "\n",
    "tokenizer = AutoTokenizer.from_pretrained(MODEL_NAME,cache_dir=cache_dir)\n",
    "tokenizer.pad_token_id = tokenizer.eos_token_id\n",
    "model = AutoModelForCausalLM.from_pretrained(MODEL_NAME,cache_dir=cache_dir)\n",
    "pipe = pipeline(\"text-generation\", model=model, tokenizer=tokenizer, max_new_tokens=10, device = 0, pad_token_id=tokenizer.eos_token_id)\n",
    "hf = HuggingFacePipeline(pipeline=pipe)"
   ]
  },
  {
   "cell_type": "code",
   "execution_count": 9,
   "metadata": {},
   "outputs": [
    {
     "name": "stderr",
     "output_type": "stream",
     "text": [
      "  8%|▊         | 237/2969 [05:28<1:06:21,  1.46s/it]"
     ]
    }
   ],
   "source": [
    "template = \"\"\"\n",
    "You are an abstractive summarizer that follows the output pattern.\n",
    "Please revise the extracted summary based on the document. The revised summary should include the information in the extracted summary. Docu- ment: {document} Extractive Summary: [Extractive Summary] [Format Instruction].\n",
    "\"\"\"\n",
    "\n",
    "response_list = []\n",
    "for idx in tqdm(range(len(pubmed))):\n",
    "    doc = pubmed.iloc[idx, 0]\n",
    "    prompt = PromptTemplate(template=template, input_variables=[\"document\"])\n",
    "    llm_chain = LLMChain(prompt=prompt, llm=hf)\n",
    "    response = llm_chain.invoke(input = doc)['document']\n",
    "    if len(response) > 0:\n",
    "        response_list.append([response, pubmed.iloc[idx, 1]])"
   ]
  },
  {
   "cell_type": "code",
   "execution_count": 5,
   "metadata": {},
   "outputs": [
    {
     "name": "stdout",
     "output_type": "stream",
     "text": [
      "{'rouge-1': {'r': 0.972972972972973, 'p': 0.4268774703557312, 'f': 0.5934065891675221}, 'rouge-2': {'r': 0.9259259259259259, 'p': 0.3424657534246575, 'f': 0.49999999605800005}, 'rouge-l': {'r': 0.972972972972973, 'p': 0.4268774703557312, 'f': 0.5934065891675221}}\n",
      "{'rouge-1': {'r': 0.4864864864864865, 'p': 0.07003891050583658, 'f': 0.12244897739159614}, 'rouge-2': {'r': 0.1590909090909091, 'p': 0.015217391304347827, 'f': 0.027777776184177465}, 'rouge-l': {'r': 0.4594594594594595, 'p': 0.06614785992217899, 'f': 0.11564625630316074}}\n",
      "{'rouge-1': {'r': 0.8035714285714286, 'p': 0.3157894736842105, 'f': 0.4534004997278075}, 'rouge-2': {'r': 0.5654761904761905, 'p': 0.17857142857142858, 'f': 0.27142856778057145}, 'rouge-l': {'r': 0.8035714285714286, 'p': 0.3157894736842105, 'f': 0.4534004997278075}}\n",
      "{'rouge-1': {'r': 0.9081632653061225, 'p': 1.0, 'f': 0.9518716527655925}, 'rouge-2': {'r': 0.8988095238095238, 'p': 0.967948717948718, 'f': 0.9320987604389576}, 'rouge-l': {'r': 0.9081632653061225, 'p': 1.0, 'f': 0.9518716527655925}}\n",
      "{'rouge-1': {'r': 0.14, 'p': 0.1794871794871795, 'f': 0.15730336586289626}, 'rouge-2': {'r': 0.0, 'p': 0.0, 'f': 0.0}, 'rouge-l': {'r': 0.14, 'p': 0.1794871794871795, 'f': 0.15730336586289626}}\n",
      "{'rouge-1': {'r': 0.8301886792452831, 'p': 0.14965986394557823, 'f': 0.2536023028873257}, 'rouge-2': {'r': 0.5, 'p': 0.06533575317604355, 'f': 0.1155698213907232}, 'rouge-l': {'r': 0.8301886792452831, 'p': 0.14965986394557823, 'f': 0.2536023028873257}}\n",
      "{'rouge-1': {'r': 0.9591836734693877, 'p': 0.9929577464788732, 'f': 0.9757785417142995}, 'rouge-2': {'r': 0.9495412844036697, 'p': 0.9764150943396226, 'f': 0.9627906926753921}, 'rouge-l': {'r': 0.9591836734693877, 'p': 0.9929577464788732, 'f': 0.9757785417142995}}\n",
      "{'rouge-1': {'r': 0.8059701492537313, 'p': 0.34069400630914826, 'f': 0.4789356942711197}, 'rouge-2': {'r': 0.43, 'p': 0.14982578397212543, 'f': 0.22222221838965342}, 'rouge-l': {'r': 0.7611940298507462, 'p': 0.3217665615141956, 'f': 0.4523281554684589}}\n",
      "{'rouge-1': {'r': 0.7586206896551724, 'p': 0.3235294117647059, 'f': 0.4536082432309492}, 'rouge-2': {'r': 0.5846153846153846, 'p': 0.20765027322404372, 'f': 0.30645160903518476}, 'rouge-l': {'r': 0.7471264367816092, 'p': 0.31862745098039214, 'f': 0.44673539099727216}}\n",
      "{'rouge-1': {'r': 0.1111111111111111, 'p': 0.25, 'f': 0.15384614958579892}, 'rouge-2': {'r': 0.008403361344537815, 'p': 0.022727272727272728, 'f': 0.012269934708872507}, 'rouge-l': {'r': 0.08641975308641975, 'p': 0.19444444444444445, 'f': 0.11965811539776477}}\n"
     ]
    }
   ],
   "source": [
    "for i in response_list:\n",
    "    print(score.get_Rouge_score(*i))"
   ]
  }
 ],
 "metadata": {
  "kernelspec": {
   "display_name": "base",
   "language": "python",
   "name": "python3"
  },
  "language_info": {
   "codemirror_mode": {
    "name": "ipython",
    "version": 3
   },
   "file_extension": ".py",
   "mimetype": "text/x-python",
   "name": "python",
   "nbconvert_exporter": "python",
   "pygments_lexer": "ipython3",
   "version": "3.8.5"
  }
 },
 "nbformat": 4,
 "nbformat_minor": 2
}
