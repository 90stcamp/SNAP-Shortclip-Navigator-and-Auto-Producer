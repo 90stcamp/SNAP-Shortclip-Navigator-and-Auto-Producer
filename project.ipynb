{
 "cells": [
  {
   "cell_type": "markdown",
   "metadata": {},
   "source": [
    "pip install --force-reinstall openai==1.8"
   ]
  },
  {
   "cell_type": "code",
   "execution_count": 1,
   "metadata": {},
   "outputs": [],
   "source": [
    "from datasets import load_dataset\n",
    "import pandas as pd\n",
    "from rouge import Rouge\n",
    "from openai import OpenAI\n",
    "import json\n",
    "from settings import *\n",
    "from utils import preprocess, prompt, score, utils\n",
    "import os \n",
    "\n",
    "from langchain.llms import OpenAI\n",
    "from langchain import HuggingFaceHub, LLMChain\n",
    "from langchain.prompts import load_prompt, PromptTemplate\n",
    "from tqdm import tqdm\n",
    "\n",
    "from langchain.prompts import PromptTemplate\n",
    "from langchain import LLMChain\n",
    "from transformers import AutoModelForCausalLM, AutoTokenizer, pipeline, GenerationConfig\n",
    "from langchain_community.llms.huggingface_pipeline import HuggingFacePipeline\n",
    "import warnings\n",
    "warnings.filterwarnings(\"ignore\")\n",
    "\n",
    "import torch\n",
    "import numpy as np                                                              \n",
    "config = utils.load_json(CONFIG_DIR)\n",
    "np.random.seed(2024)"
   ]
  },
  {
   "cell_type": "code",
   "execution_count": 2,
   "metadata": {},
   "outputs": [
    {
     "data": {
      "text/html": [
       "<div>\n",
       "<style scoped>\n",
       "    .dataframe tbody tr th:only-of-type {\n",
       "        vertical-align: middle;\n",
       "    }\n",
       "\n",
       "    .dataframe tbody tr th {\n",
       "        vertical-align: top;\n",
       "    }\n",
       "\n",
       "    .dataframe thead th {\n",
       "        text-align: right;\n",
       "    }\n",
       "</style>\n",
       "<table border=\"1\" class=\"dataframe\">\n",
       "  <thead>\n",
       "    <tr style=\"text-align: right;\">\n",
       "      <th></th>\n",
       "      <th>article</th>\n",
       "      <th>abstract</th>\n",
       "    </tr>\n",
       "  </thead>\n",
       "  <tbody>\n",
       "    <tr>\n",
       "      <th>0</th>\n",
       "      <td>a review of the literature and an extensive me...</td>\n",
       "      <td>backgrounda review of the literature and an ex...</td>\n",
       "    </tr>\n",
       "    <tr>\n",
       "      <th>1</th>\n",
       "      <td>nathan , as an oncology fellow , knew well tha...</td>\n",
       "      <td>t cells tell macrophages when to start making ...</td>\n",
       "    </tr>\n",
       "    <tr>\n",
       "      <th>2</th>\n",
       "      <td>temporary henna tattoos or pseudotattoo have b...</td>\n",
       "      <td>temporary henna tattoos or pseudotattoos have ...</td>\n",
       "    </tr>\n",
       "  </tbody>\n",
       "</table>\n",
       "</div>"
      ],
      "text/plain": [
       "                                             article   \n",
       "0  a review of the literature and an extensive me...  \\\n",
       "1  nathan , as an oncology fellow , knew well tha...   \n",
       "2  temporary henna tattoos or pseudotattoo have b...   \n",
       "\n",
       "                                            abstract  \n",
       "0  backgrounda review of the literature and an ex...  \n",
       "1  t cells tell macrophages when to start making ...  \n",
       "2  temporary henna tattoos or pseudotattoos have ...  "
      ]
     },
     "execution_count": 2,
     "metadata": {},
     "output_type": "execute_result"
    }
   ],
   "source": [
    "pubmed = utils.load_data(config['data_name'])\n",
    "pubmed.head(3)"
   ]
  },
  {
   "cell_type": "code",
   "execution_count": 3,
   "metadata": {},
   "outputs": [
    {
     "data": {
      "application/vnd.jupyter.widget-view+json": {
       "model_id": "edc7909c8a2644dea1ff8cbc98b192a2",
       "version_major": 2,
       "version_minor": 0
      },
      "text/plain": [
       "Loading checkpoint shards:   0%|          | 0/2 [00:00<?, ?it/s]"
      ]
     },
     "metadata": {},
     "output_type": "display_data"
    }
   ],
   "source": [
    "# MODEL_NAME = \"mistralai/Mistral-7B-Instruct-v0.2\"\n",
    "# MODEL_NAME = \"meta-llama/Llama-2-7b-hf\"\n",
    "MODEL_NAME = \"meta-llama/Llama-2-7b-chat-hf\"\n",
    "\n",
    "# cache_dir = \"/data/ephemeral/Youtube-Short-Generator/models/mistral\"\n",
    "# cache_dir = \"/data/ephemeral/Youtube-Short-Generator/models/llama\"\n",
    "cache_dir = \"/data/ephemeral/Youtube-Short-Generator/models/llama_chat\"\n",
    "\n",
    "tokenizer = AutoTokenizer.from_pretrained(MODEL_NAME,cache_dir=cache_dir)\n",
    "tokenizer.pad_token_id = tokenizer.eos_token_id\n",
    "model = AutoModelForCausalLM.from_pretrained(\n",
    "    MODEL_NAME,\n",
    "    cache_dir=cache_dir)\n",
    "pipe = pipeline(\"text-generation\", model=model, tokenizer=tokenizer, max_new_tokens=100, device = 0, pad_token_id=tokenizer.eos_token_id)\n",
    "hf = HuggingFacePipeline(pipeline=pipe)"
   ]
  },
  {
   "cell_type": "code",
   "execution_count": 5,
   "metadata": {},
   "outputs": [],
   "source": [
    "# template = \"\"\"\n",
    "# <s>[INST]<>You are an abstractive summarizer that follows the output pattern.\n",
    "# Please revise the extracted summary based on the document. The revised summary should include the information in the extracted summary. \n",
    "# Original Document: {document}\n",
    "# Summarization: <>[/INST]<\\s>.\n",
    "# \"\"\"\n",
    "\n",
    "\n",
    "# Llama_chat(In-context)\n",
    "#  template = \"\"\"\n",
    "# <s>[INST]<>You are an extractive summarizer that follows the output pattern.\n",
    "# The following examples are successful extractive summarization instances: \n",
    "\n",
    "# Example Document: 'the three methods of assesing glycemic control , hba1c , smbg and cgms provide distinct information , yet complementary at the same time . hba1c does not equally reflect the glycemic values over the three months that forego its determination . \\n hba1c assesses the average glycemic exposure in time without being able to differentiate between preprandial and postprandial glycemia , possible hypo and hyper glycemia . \\n this method is able to identify both hypoglycemic and hyperglycemic episodes allowing immediate therapeutic decisions and therefore a glycemic balance closer to normal . \\n introduction of cgms in the assessment of the glycemic status represents a great technological advance . \\n this glucose monitoring method clears glycemic balance abnormalities in an otherwise impossible to obtain manner , evaluating both therapeutic efficiency and glycemic control . even if cgm systems are far from being implemented at a large scale in current practice , they are about to change the diabetes management by providing an optimal glycemic control .'\n",
    "# Example Summary: 'type 2 diabetes is a chronic disease and maintaining a tight glycemic control is essential to prevent both microvascular and macrovascular complications , as demonstrated in previous studies . \\n it is essential to monitor the glucose levels in order to achieve the targets . \\n the blood glucose monitoring can be done by different methods : glycated haemoglobin a1c , self - monitoring of blood glucose ( before and after meals ) with a glucometer and continuous glucose monitoring with a system that measures interstitial glucose concentrations . even though glycated haemoglobin a1c is considered the  gold standard  of diabetes care \\n , it does not provide complete information about the magnitude of the glycemic disequilibrium . \\n therefore the self - monitoring and continuous monitoring of blood glucose are considered an important adjunct for achieving and maintaining optimal glycemic control . \\n the three methods of assessing glycemic control : hba1c , smbg and cgms provide distinct but at the same time complementary information ,'\n",
    "\n",
    "# Please summarize the following document.The summary should contain 3 sentences.\n",
    "# Original Document: {document}<>[/INST]<\\s>.\n",
    "# \"\"\""
   ]
  },
  {
   "cell_type": "code",
   "execution_count": 10,
   "metadata": {},
   "outputs": [],
   "source": [
    "def llm(doc):\n",
    "    template = \"\"\"\n",
    "    <s>[INST]<>You are an extractive summarizer that follows the output pattern.\n",
    "    The following examples are successful extractive summarization instances: \n",
    "\n",
    "    Example Document: 'the three methods of assesing glycemic control , hba1c , smbg and cgms provide distinct information , yet complementary at the same time . hba1c does not equally reflect the glycemic values over the three months that forego its determination . \\n hba1c assesses the average glycemic exposure in time without being able to differentiate between preprandial and postprandial glycemia , possible hypo and hyper glycemia . \\n this method is able to identify both hypoglycemic and hyperglycemic episodes allowing immediate therapeutic decisions and therefore a glycemic balance closer to normal . \\n introduction of cgms in the assessment of the glycemic status represents a great technological advance . \\n this glucose monitoring method clears glycemic balance abnormalities in an otherwise impossible to obtain manner , evaluating both therapeutic efficiency and glycemic control . even if cgm systems are far from being implemented at a large scale in current practice , they are about to change the diabetes management by providing an optimal glycemic control .'\n",
    "    Example Summary: 'type 2 diabetes is a chronic disease and maintaining a tight glycemic control is essential to prevent both microvascular and macrovascular complications , as demonstrated in previous studies . \\n it is essential to monitor the glucose levels in order to achieve the targets . \\n the blood glucose monitoring can be done by different methods : glycated haemoglobin a1c , self - monitoring of blood glucose ( before and after meals ) with a glucometer and continuous glucose monitoring with a system that measures interstitial glucose concentrations . even though glycated haemoglobin a1c is considered the  gold standard  of diabetes care \\n , it does not provide complete information about the magnitude of the glycemic disequilibrium . \\n therefore the self - monitoring and continuous monitoring of blood glucose are considered an important adjunct for achieving and maintaining optimal glycemic control . \\n the three methods of assessing glycemic control : hba1c , smbg and cgms provide distinct but at the same time complementary information ,'\n",
    "    \n",
    "    Please summarize the following document.The summary should contain 3 sentences.\n",
    "    Original Document: {document}<>[/INST]<\\s>.\n",
    "    \"\"\"\n",
    "    prompt = PromptTemplate(template=template, input_variables=[\"document\"])\n",
    "    llm_chain = LLMChain(prompt=prompt, llm=hf)\n",
    "    response = llm_chain.invoke(input = doc)\n",
    "    torch.cuda.empty_cache()\n",
    "    return response['text']"
   ]
  },
  {
   "cell_type": "code",
   "execution_count": 9,
   "metadata": {},
   "outputs": [],
   "source": [
    "def get_summarization(df,save_name, iter_num = 5):\n",
    "    for i in range(iter_num):\n",
    "        response_list = []\n",
    "        for idx in tqdm(range(len(df)), total = len(df)):\n",
    "            response = llm(df.iloc[idx,0])\n",
    "            \n",
    "            if len(response) > 0:\n",
    "                response_list.append([response, df.iloc[idx, 1]])\n",
    "        df = pd.DataFrame(response_list, columns = ['generate', 'abstract'])\n",
    "        df.to_csv(os.path.join(OUT_DIR, f\"{save_name}_{i}.csv\"), index = False)"
   ]
  },
  {
   "cell_type": "code",
   "execution_count": null,
   "metadata": {},
   "outputs": [],
   "source": [
    "save_name = 'llama_chat'\n",
    "sample = pubmed.sample(n=500)\n",
    "result_df = get_summarization(sample, save_name, 3)"
   ]
  },
  {
   "cell_type": "code",
   "execution_count": 12,
   "metadata": {},
   "outputs": [
    {
     "name": "stderr",
     "output_type": "stream",
     "text": [
      "Get Rouge List From all Dataframe: 100%|██████████| 1/1 [00:03<00:00,  3.70s/it]\n"
     ]
    },
    {
     "data": {
      "text/plain": [
       "array([0.23141175])"
      ]
     },
     "execution_count": 12,
     "metadata": {},
     "output_type": "execute_result"
    }
   ],
   "source": [
    "model_avg_rouge = score.get_rouge_list_from_all_df(save_name)\n",
    "model_avg_rouge"
   ]
  },
  {
   "cell_type": "code",
   "execution_count": 7,
   "metadata": {},
   "outputs": [],
   "source": [
    "score.save_rouge_avg(model_avg_rouge,'mistral')"
   ]
  },
  {
   "cell_type": "code",
   "execution_count": 9,
   "metadata": {},
   "outputs": [
    {
     "name": "stdout",
     "output_type": "stream",
     "text": [
      "Rouge List:  [0.22415016 0.19500024 0.20017621]\n",
      "Mean :0.206\n",
      "Standard Deviation:0.013\n"
     ]
    },
    {
     "data": {
      "text/plain": [
       "(0.206, 0.013)"
      ]
     },
     "execution_count": 9,
     "metadata": {},
     "output_type": "execute_result"
    }
   ],
   "source": [
    "score.statistic_from_rouge_list('mistral_result.npy')"
   ]
  },
  {
   "cell_type": "code",
   "execution_count": 16,
   "metadata": {},
   "outputs": [],
   "source": [
    "a = pd.read_csv(os.path.join(OUT_DIR, 'mis_0.csv'))"
   ]
  },
  {
   "cell_type": "code",
   "execution_count": 19,
   "metadata": {},
   "outputs": [
    {
     "data": {
      "text/plain": [
       "'t cells tell macrophages when to start making the toxic soup of lysosomal enzymes , reactive oxygen species , and nitric oxide that destroys intracellular pathogens . in 1983 \\n , carl nathan proved that this start signal comes in the form of the secreted cytokine ifn.'"
      ]
     },
     "execution_count": 19,
     "metadata": {},
     "output_type": "execute_result"
    }
   ],
   "source": [
    "a.iloc[1,1]"
   ]
  },
  {
   "cell_type": "code",
   "execution_count": 20,
   "metadata": {},
   "outputs": [
    {
     "data": {
      "text/plain": [
       "' {\"summary\": [\\n      \"Nathan, an oncology fellow, observed that chemotherapy lowered patients\\' white blood cells and increased their risk of infections.\",\\n      \"Nathan found that the supernatant from activated T cells induced macrophage activation, suggesting a secreted factor.\",\\n      \"Nathan and his collaborators were frustrated with the primitive protein separation methods and lacked the technology to identify the specific protein.\",\\n      \"Nathan discovered that activated macrophages produced hydrogen peroxide, a phenomenon known as the respiratory burst.\",\\n      \"In 1983, Nathan published a seminal paper showing that interferon (IFN) depleted from unpurified T cell supernatants decreased macrophage activation and killing of intracellular protozoa, but adding back recombinant IFN restored the activity.\",\\n      \"Nathan\\'s discovery of IFN\\'s role in macrophage activation led to the development of treatments for leprosy by injecting recombinant IFN directly into cutaneous lesions and observing macrophage infiltration, hydrogen peroxide production, and killing of Mycobacterium leprae.\"\\n     ]}'"
      ]
     },
     "execution_count": 20,
     "metadata": {},
     "output_type": "execute_result"
    }
   ],
   "source": [
    "a.iloc[1,0]"
   ]
  },
  {
   "cell_type": "code",
   "execution_count": null,
   "metadata": {},
   "outputs": [],
   "source": []
  }
 ],
 "metadata": {
  "kernelspec": {
   "display_name": "base",
   "language": "python",
   "name": "python3"
  },
  "language_info": {
   "codemirror_mode": {
    "name": "ipython",
    "version": 3
   },
   "file_extension": ".py",
   "mimetype": "text/x-python",
   "name": "python",
   "nbconvert_exporter": "python",
   "pygments_lexer": "ipython3",
   "version": "3.8.5"
  }
 },
 "nbformat": 4,
 "nbformat_minor": 2
}
