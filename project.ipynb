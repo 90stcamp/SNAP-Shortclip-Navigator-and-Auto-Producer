{
 "cells": [
  {
   "cell_type": "markdown",
   "metadata": {},
   "source": [
    "pip install --force-reinstall openai==1.8"
   ]
  },
  {
   "cell_type": "code",
   "execution_count": 1,
   "metadata": {},
   "outputs": [],
   "source": [
    "from datasets import load_dataset\n",
    "import pandas as pd\n",
    "from rouge import Rouge\n",
    "from openai import OpenAI\n",
    "import json\n",
    "from settings import *\n",
    "from utils import *\n",
    "import os \n",
    "\n",
    "from langchain.llms import OpenAI\n",
    "from langchain import HuggingFaceHub, LLMChain\n",
    "from langchain.prompts import load_prompt, PromptTemplate\n",
    "from tqdm import tqdm\n",
    "config = load_json(CONFIG_DIR)"
   ]
  },
  {
   "cell_type": "code",
   "execution_count": 2,
   "metadata": {},
   "outputs": [
    {
     "data": {
      "text/html": [
       "<div>\n",
       "<style scoped>\n",
       "    .dataframe tbody tr th:only-of-type {\n",
       "        vertical-align: middle;\n",
       "    }\n",
       "\n",
       "    .dataframe tbody tr th {\n",
       "        vertical-align: top;\n",
       "    }\n",
       "\n",
       "    .dataframe thead th {\n",
       "        text-align: right;\n",
       "    }\n",
       "</style>\n",
       "<table border=\"1\" class=\"dataframe\">\n",
       "  <thead>\n",
       "    <tr style=\"text-align: right;\">\n",
       "      <th></th>\n",
       "      <th>article</th>\n",
       "      <th>abstract</th>\n",
       "    </tr>\n",
       "  </thead>\n",
       "  <tbody>\n",
       "    <tr>\n",
       "      <th>0</th>\n",
       "      <td>a recent systematic analysis showed that in 20...</td>\n",
       "      <td>background : the present study was carried out...</td>\n",
       "    </tr>\n",
       "    <tr>\n",
       "      <th>1</th>\n",
       "      <td>it occurs in more than 50% of patients and may...</td>\n",
       "      <td>backgroundanemia in patients with cancer who a...</td>\n",
       "    </tr>\n",
       "    <tr>\n",
       "      <th>2</th>\n",
       "      <td>tardive dystonia ( td ) , a rarer side effect ...</td>\n",
       "      <td>tardive dystonia ( td ) is a serious side effe...</td>\n",
       "    </tr>\n",
       "    <tr>\n",
       "      <th>3</th>\n",
       "      <td>lepidoptera include agricultural pests that , ...</td>\n",
       "      <td>many lepidopteran insects are agricultural pes...</td>\n",
       "    </tr>\n",
       "    <tr>\n",
       "      <th>4</th>\n",
       "      <td>syncope is caused by transient diffuse cerebra...</td>\n",
       "      <td>we present an unusual case of recurrent cough ...</td>\n",
       "    </tr>\n",
       "  </tbody>\n",
       "</table>\n",
       "</div>"
      ],
      "text/plain": [
       "                                             article   \n",
       "0  a recent systematic analysis showed that in 20...  \\\n",
       "1  it occurs in more than 50% of patients and may...   \n",
       "2  tardive dystonia ( td ) , a rarer side effect ...   \n",
       "3  lepidoptera include agricultural pests that , ...   \n",
       "4  syncope is caused by transient diffuse cerebra...   \n",
       "\n",
       "                                            abstract  \n",
       "0  background : the present study was carried out...  \n",
       "1  backgroundanemia in patients with cancer who a...  \n",
       "2  tardive dystonia ( td ) is a serious side effe...  \n",
       "3  many lepidopteran insects are agricultural pes...  \n",
       "4  we present an unusual case of recurrent cough ...  "
      ]
     },
     "execution_count": 2,
     "metadata": {},
     "output_type": "execute_result"
    }
   ],
   "source": [
    "# pubmed = load_data(config['data_path'])\n",
    "# pubmed.head(5)\n",
    "# filter_pubmed = pubmed[pubmed['article'].map(lambda x: len(x)) < 4000]\n",
    "# filter_pubmed.to_csv('filter_pubmed.csv', index = False)"
   ]
  },
  {
   "cell_type": "code",
   "execution_count": 2,
   "metadata": {},
   "outputs": [
    {
     "data": {
      "text/html": [
       "<div>\n",
       "<style scoped>\n",
       "    .dataframe tbody tr th:only-of-type {\n",
       "        vertical-align: middle;\n",
       "    }\n",
       "\n",
       "    .dataframe tbody tr th {\n",
       "        vertical-align: top;\n",
       "    }\n",
       "\n",
       "    .dataframe thead th {\n",
       "        text-align: right;\n",
       "    }\n",
       "</style>\n",
       "<table border=\"1\" class=\"dataframe\">\n",
       "  <thead>\n",
       "    <tr style=\"text-align: right;\">\n",
       "      <th></th>\n",
       "      <th>article</th>\n",
       "      <th>abstract</th>\n",
       "    </tr>\n",
       "  </thead>\n",
       "  <tbody>\n",
       "    <tr>\n",
       "      <th>1</th>\n",
       "      <td>a review of the literature and an extensive me...</td>\n",
       "      <td>backgrounda review of the literature and an ex...</td>\n",
       "    </tr>\n",
       "    <tr>\n",
       "      <th>4</th>\n",
       "      <td>nathan , as an oncology fellow , knew well tha...</td>\n",
       "      <td>t cells tell macrophages when to start making ...</td>\n",
       "    </tr>\n",
       "    <tr>\n",
       "      <th>5</th>\n",
       "      <td>temporary henna tattoos or pseudotattoo have b...</td>\n",
       "      <td>temporary henna tattoos or pseudotattoos have ...</td>\n",
       "    </tr>\n",
       "  </tbody>\n",
       "</table>\n",
       "</div>"
      ],
      "text/plain": [
       "                                             article   \n",
       "1  a review of the literature and an extensive me...  \\\n",
       "4  nathan , as an oncology fellow , knew well tha...   \n",
       "5  temporary henna tattoos or pseudotattoo have b...   \n",
       "\n",
       "                                            abstract  \n",
       "1  backgrounda review of the literature and an ex...  \n",
       "4  t cells tell macrophages when to start making ...  \n",
       "5  temporary henna tattoos or pseudotattoos have ...  "
      ]
     },
     "execution_count": 2,
     "metadata": {},
     "output_type": "execute_result"
    }
   ],
   "source": [
    "filter_pubmed = pd.read_csv('filter_pubmed.csv')\n",
    "filter_pubmed.head(3)\n",
    "filter_pubmed = filter_pubmed.dropna()\n",
    "filter_pubmed.head(3)"
   ]
  },
  {
   "cell_type": "code",
   "execution_count": 3,
   "metadata": {},
   "outputs": [
    {
     "name": "stderr",
     "output_type": "stream",
     "text": [
      "/opt/conda/lib/python3.8/site-packages/huggingface_hub/utils/_deprecation.py:131: FutureWarning: 'InferenceApi' (from 'huggingface_hub.inference_api') is deprecated and will be removed from version '1.0'. `InferenceApi` client is deprecated in favor of the more feature-complete `InferenceClient`. Check out this guide to learn how to convert your script to use it: https://huggingface.co/docs/huggingface_hub/guides/inference#legacy-inferenceapi-client.\n",
      "  warnings.warn(warning_message, FutureWarning)\n",
      "100%|██████████| 10/10 [01:22<00:00,  8.24s/it]\n"
     ]
    }
   ],
   "source": [
    "os.environ['HUGGINGFACEHUB_API_TOKEN'] = load_json(API_KEY)['huggingface_key']\n",
    "summarizer = HuggingFaceHub(\n",
    "    repo_id=\"mistralai/Mistral-7B-v0.1\",\n",
    "    model_kwargs={\"temperature\":0.2}\n",
    ")\n",
    "template = \"\"\"\n",
    "You are an abstractive summarizer that follows the output pattern.\n",
    "Please revise the extracted summary based on the document. The revised summary should include the information in the extracted summary. Docu- ment: {document} Extractive Summary: [Extractive Summary] [Format Instruction].\n",
    "\"\"\"\n",
    "\n",
    "response_list = []\n",
    "for idx in tqdm(range(10)):\n",
    "    doc = filter_pubmed.iloc[idx, 0]\n",
    "    prompt = PromptTemplate(template=template, input_variables=[\"document\"])\n",
    "    llm_chain = LLMChain(prompt=prompt, llm=summarizer)\n",
    "    response = llm_chain.invoke(input = doc)['document']\n",
    "    if len(response) > 0:\n",
    "        response_list.append([response, filter_pubmed.iloc[idx, 1]])\n",
    "    "
   ]
  },
  {
   "cell_type": "code",
   "execution_count": 4,
   "metadata": {},
   "outputs": [
    {
     "name": "stdout",
     "output_type": "stream",
     "text": [
      "{'rouge-1': {'r': 0.972972972972973, 'p': 0.4268774703557312, 'f': 0.5934065891675221}, 'rouge-2': {'r': 0.9259259259259259, 'p': 0.3424657534246575, 'f': 0.49999999605800005}, 'rouge-l': {'r': 0.972972972972973, 'p': 0.4268774703557312, 'f': 0.5934065891675221}}\n",
      "{'rouge-1': {'r': 0.4864864864864865, 'p': 0.07003891050583658, 'f': 0.12244897739159614}, 'rouge-2': {'r': 0.1590909090909091, 'p': 0.015217391304347827, 'f': 0.027777776184177465}, 'rouge-l': {'r': 0.4594594594594595, 'p': 0.06614785992217899, 'f': 0.11564625630316074}}\n",
      "{'rouge-1': {'r': 0.8035714285714286, 'p': 0.3157894736842105, 'f': 0.4534004997278075}, 'rouge-2': {'r': 0.5654761904761905, 'p': 0.17857142857142858, 'f': 0.27142856778057145}, 'rouge-l': {'r': 0.8035714285714286, 'p': 0.3157894736842105, 'f': 0.4534004997278075}}\n",
      "{'rouge-1': {'r': 0.9081632653061225, 'p': 1.0, 'f': 0.9518716527655925}, 'rouge-2': {'r': 0.8988095238095238, 'p': 0.967948717948718, 'f': 0.9320987604389576}, 'rouge-l': {'r': 0.9081632653061225, 'p': 1.0, 'f': 0.9518716527655925}}\n",
      "{'rouge-1': {'r': 0.14, 'p': 0.1794871794871795, 'f': 0.15730336586289626}, 'rouge-2': {'r': 0.0, 'p': 0.0, 'f': 0.0}, 'rouge-l': {'r': 0.14, 'p': 0.1794871794871795, 'f': 0.15730336586289626}}\n",
      "{'rouge-1': {'r': 0.8301886792452831, 'p': 0.14965986394557823, 'f': 0.2536023028873257}, 'rouge-2': {'r': 0.5, 'p': 0.06533575317604355, 'f': 0.1155698213907232}, 'rouge-l': {'r': 0.8301886792452831, 'p': 0.14965986394557823, 'f': 0.2536023028873257}}\n",
      "{'rouge-1': {'r': 0.9591836734693877, 'p': 0.9929577464788732, 'f': 0.9757785417142995}, 'rouge-2': {'r': 0.9495412844036697, 'p': 0.9764150943396226, 'f': 0.9627906926753921}, 'rouge-l': {'r': 0.9591836734693877, 'p': 0.9929577464788732, 'f': 0.9757785417142995}}\n",
      "{'rouge-1': {'r': 0.8059701492537313, 'p': 0.34069400630914826, 'f': 0.4789356942711197}, 'rouge-2': {'r': 0.43, 'p': 0.14982578397212543, 'f': 0.22222221838965342}, 'rouge-l': {'r': 0.7611940298507462, 'p': 0.3217665615141956, 'f': 0.4523281554684589}}\n",
      "{'rouge-1': {'r': 0.7586206896551724, 'p': 0.3235294117647059, 'f': 0.4536082432309492}, 'rouge-2': {'r': 0.5846153846153846, 'p': 0.20765027322404372, 'f': 0.30645160903518476}, 'rouge-l': {'r': 0.7471264367816092, 'p': 0.31862745098039214, 'f': 0.44673539099727216}}\n",
      "{'rouge-1': {'r': 0.1111111111111111, 'p': 0.25, 'f': 0.15384614958579892}, 'rouge-2': {'r': 0.008403361344537815, 'p': 0.022727272727272728, 'f': 0.012269934708872507}, 'rouge-l': {'r': 0.08641975308641975, 'p': 0.19444444444444445, 'f': 0.11965811539776477}}\n"
     ]
    }
   ],
   "source": [
    "for i in response_list:\n",
    "    print(get_Rouge_score(*i))"
   ]
  },
  {
   "cell_type": "code",
   "execution_count": null,
   "metadata": {},
   "outputs": [],
   "source": []
  }
 ],
 "metadata": {
  "kernelspec": {
   "display_name": "base",
   "language": "python",
   "name": "python3"
  },
  "language_info": {
   "codemirror_mode": {
    "name": "ipython",
    "version": 3
   },
   "file_extension": ".py",
   "mimetype": "text/x-python",
   "name": "python",
   "nbconvert_exporter": "python",
   "pygments_lexer": "ipython3",
   "version": "3.8.5"
  }
 },
 "nbformat": 4,
 "nbformat_minor": 2
}
